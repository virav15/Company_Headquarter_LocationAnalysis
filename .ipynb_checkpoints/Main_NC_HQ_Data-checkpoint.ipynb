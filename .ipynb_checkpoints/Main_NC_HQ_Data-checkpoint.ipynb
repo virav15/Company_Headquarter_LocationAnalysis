{
 "cells": [
  {
   "cell_type": "code",
   "execution_count": null,
   "metadata": {},
   "outputs": [],
   "source": [
    "# find a list of suitable cities in North Carolina to have a headquarter/branch of any company based on its specific parameters."
   ]
  },
  {
   "cell_type": "code",
   "execution_count": 1,
   "metadata": {},
   "outputs": [
    {
     "data": {
      "text/html": [
       "<style> .widget-hbox .widget-label { max-width:350ex; text-align:left} </style>"
      ],
      "text/plain": [
       "<IPython.core.display.HTML object>"
      ]
     },
     "execution_count": 1,
     "metadata": {},
     "output_type": "execute_result"
    }
   ],
   "source": [
    "# Dependencies Libraries \n",
    "import pandas as pd\n",
    "import numpy as np\n",
    "import matplotlib.pyplot as plt\n",
    "import seaborn as sns\n",
    "import requests as req\n",
    "import json\n",
    "import ipywidgets as widgets\n",
    "from IPython.display import display, HTML\n",
    "from ipywidgets import interactive, Layout, Textarea, Dropdown, Label\n",
    "HTML('<style> .widget-hbox .widget-label { max-width:350ex; text-align:left} </style>')"
   ]
  },
  {
   "cell_type": "code",
   "execution_count": null,
   "metadata": {},
   "outputs": [],
   "source": []
  },
  {
   "cell_type": "code",
   "execution_count": 12,
   "metadata": {},
   "outputs": [],
   "source": [
    "# Population Catagory Options in a list \n",
    "population_catagory = ['>=100000','>=250000','>=500000','>=1000000']\n",
    "\n",
    "labor_force_catagory = ['Management','Business and Financial Operations','Computer and Mathematical',\n",
    "                        'Architecture and Engineering','Life, Physical, and Social Science',\n",
    "                        'Community and Social Service','Legal','Education, Training, and Library',\n",
    "                        'Arts, Design, Entertainment, Sports, and Media','Healthcare Practitioners and Technical',\n",
    "                        'Healthcare Support','Protective Service','Food Preparation and Serving Related',\n",
    "                        'Building and Grounds Cleaning and Maintenance','Personal Care and Service',\n",
    "                        'Sales and Related','Office and Administrative Support','Farming, Fishing, and Forestry',\n",
    "                        'Construction and Extraction','Installation, Maintenance, and Repair','Production',\n",
    "                        'Transportation and Material Moving', 'Information Technology', 'Data Science', 'Research', 'Pharmaceutical']"
   ]
  },
  {
   "cell_type": "code",
   "execution_count": 13,
   "metadata": {},
   "outputs": [],
   "source": [
    "form_item_layout = Layout(\n",
    "    display='flex',\n",
    "    #flex_flow='row',\n",
    "    justify_content='space-between',\n",
    "    flex_flow='column',\n",
    "    border='solid 2px',\n",
    "    align_items='stretch',\n",
    "    width='70%'\n",
    ")"
   ]
  },
  {
   "cell_type": "code",
   "execution_count": 14,
   "metadata": {},
   "outputs": [
    {
     "data": {
      "text/html": [
       "<div>\n",
       "<style scoped>\n",
       "    .dataframe tbody tr th:only-of-type {\n",
       "        vertical-align: middle;\n",
       "    }\n",
       "\n",
       "    .dataframe tbody tr th {\n",
       "        vertical-align: top;\n",
       "    }\n",
       "\n",
       "    .dataframe thead th {\n",
       "        text-align: right;\n",
       "    }\n",
       "</style>\n",
       "<table border=\"1\" class=\"dataframe\">\n",
       "  <thead>\n",
       "    <tr style=\"text-align: right;\">\n",
       "      <th></th>\n",
       "      <th>City</th>\n",
       "      <th>Population</th>\n",
       "      <th>County</th>\n",
       "      <th>State</th>\n",
       "      <th>FullState</th>\n",
       "      <th>MSA</th>\n",
       "      <th>Population Score</th>\n",
       "      <th>Closest Airport</th>\n",
       "      <th>Proximity to Airport</th>\n",
       "      <th>Airport Score</th>\n",
       "    </tr>\n",
       "  </thead>\n",
       "  <tbody>\n",
       "    <tr>\n",
       "      <th>0</th>\n",
       "      <td>New York</td>\n",
       "      <td>8537673</td>\n",
       "      <td>Bronx County</td>\n",
       "      <td>NY</td>\n",
       "      <td>New York</td>\n",
       "      <td>New York-Jersey City-White Plains, NY-NJ Metro...</td>\n",
       "      <td>10.0</td>\n",
       "      <td>Newark Liberty International Airport</td>\n",
       "      <td>28 min</td>\n",
       "      <td>0.8</td>\n",
       "    </tr>\n",
       "    <tr>\n",
       "      <th>1</th>\n",
       "      <td>Los Angeles</td>\n",
       "      <td>3976322</td>\n",
       "      <td>Los Angeles County</td>\n",
       "      <td>CA</td>\n",
       "      <td>California</td>\n",
       "      <td>Los Angeles-Long Beach-Glendale, CA Metropolit...</td>\n",
       "      <td>10.0</td>\n",
       "      <td>Los Angeles International Airport</td>\n",
       "      <td>25 min</td>\n",
       "      <td>2.0</td>\n",
       "    </tr>\n",
       "    <tr>\n",
       "      <th>2</th>\n",
       "      <td>Chicago</td>\n",
       "      <td>2704958</td>\n",
       "      <td>Cook County</td>\n",
       "      <td>IL</td>\n",
       "      <td>Illinois</td>\n",
       "      <td>Chicago-Naperville-Arlington Heights, IL Metro...</td>\n",
       "      <td>10.0</td>\n",
       "      <td>O'Hare International Airport</td>\n",
       "      <td>31 min</td>\n",
       "      <td>0.0</td>\n",
       "    </tr>\n",
       "    <tr>\n",
       "      <th>3</th>\n",
       "      <td>Houston</td>\n",
       "      <td>2303482</td>\n",
       "      <td>Harris County</td>\n",
       "      <td>TX</td>\n",
       "      <td>Texas</td>\n",
       "      <td>Houston-The Woodlands-Sugar Land, TX</td>\n",
       "      <td>10.0</td>\n",
       "      <td>George Bush Intercontinental Airport</td>\n",
       "      <td>21 min</td>\n",
       "      <td>3.6</td>\n",
       "    </tr>\n",
       "    <tr>\n",
       "      <th>4</th>\n",
       "      <td>Phoenix</td>\n",
       "      <td>1615017</td>\n",
       "      <td>Maricopa County</td>\n",
       "      <td>AZ</td>\n",
       "      <td>Arizona</td>\n",
       "      <td>Phoenix-Mesa-Scottsdale, AZ</td>\n",
       "      <td>10.0</td>\n",
       "      <td>Phoenix Sky Harbor International Airport</td>\n",
       "      <td>9 min</td>\n",
       "      <td>8.4</td>\n",
       "    </tr>\n",
       "  </tbody>\n",
       "</table>\n",
       "</div>"
      ],
      "text/plain": [
       "          City  Population              County State   FullState  \\\n",
       "0     New York     8537673        Bronx County    NY    New York   \n",
       "1  Los Angeles     3976322  Los Angeles County    CA  California   \n",
       "2      Chicago     2704958         Cook County    IL    Illinois   \n",
       "3      Houston     2303482       Harris County    TX       Texas   \n",
       "4      Phoenix     1615017     Maricopa County    AZ     Arizona   \n",
       "\n",
       "                                                 MSA  Population Score  \\\n",
       "0  New York-Jersey City-White Plains, NY-NJ Metro...              10.0   \n",
       "1  Los Angeles-Long Beach-Glendale, CA Metropolit...              10.0   \n",
       "2  Chicago-Naperville-Arlington Heights, IL Metro...              10.0   \n",
       "3               Houston-The Woodlands-Sugar Land, TX              10.0   \n",
       "4                        Phoenix-Mesa-Scottsdale, AZ              10.0   \n",
       "\n",
       "                            Closest Airport Proximity to Airport  \\\n",
       "0      Newark Liberty International Airport               28 min   \n",
       "1         Los Angeles International Airport               25 min   \n",
       "2              O'Hare International Airport               31 min   \n",
       "3      George Bush Intercontinental Airport               21 min   \n",
       "4  Phoenix Sky Harbor International Airport                9 min   \n",
       "\n",
       "   Airport Score  \n",
       "0            0.8  \n",
       "1            2.0  \n",
       "2            0.0  \n",
       "3            3.6  \n",
       "4            8.4  "
      ]
     },
     "execution_count": 14,
     "metadata": {},
     "output_type": "execute_result"
    }
   ],
   "source": [
    "census = pd.read_csv('Census.csv', encoding=\"ISO-8859-1\")\n",
    "census.head()"
   ]
  },
  {
   "cell_type": "code",
   "execution_count": 6,
   "metadata": {},
   "outputs": [
    {
     "name": "stdout",
     "output_type": "stream",
     "text": [
      "<class 'pandas.core.frame.DataFrame'>\n",
      "RangeIndex: 303 entries, 0 to 302\n",
      "Data columns (total 10 columns):\n",
      "City                    303 non-null object\n",
      "Population              303 non-null int64\n",
      "County                  303 non-null object\n",
      "State                   303 non-null object\n",
      "FullState               303 non-null object\n",
      "MSA                     303 non-null object\n",
      "Population Score        303 non-null float64\n",
      "Closest Airport         303 non-null object\n",
      "Proximity to Airport    303 non-null object\n",
      "Airport Score           303 non-null float64\n",
      "dtypes: float64(2), int64(1), object(7)\n",
      "memory usage: 23.8+ KB\n"
     ]
    }
   ],
   "source": [
    "census.info()"
   ]
  },
  {
   "cell_type": "code",
   "execution_count": 7,
   "metadata": {},
   "outputs": [
    {
     "data": {
      "text/html": [
       "<div>\n",
       "<style scoped>\n",
       "    .dataframe tbody tr th:only-of-type {\n",
       "        vertical-align: middle;\n",
       "    }\n",
       "\n",
       "    .dataframe tbody tr th {\n",
       "        vertical-align: top;\n",
       "    }\n",
       "\n",
       "    .dataframe thead th {\n",
       "        text-align: right;\n",
       "    }\n",
       "</style>\n",
       "<table border=\"1\" class=\"dataframe\">\n",
       "  <thead>\n",
       "    <tr style=\"text-align: right;\">\n",
       "      <th></th>\n",
       "      <th>AREA_NAME</th>\n",
       "      <th>OCC_TITLE</th>\n",
       "      <th>TOT_EMP</th>\n",
       "      <th>JOBS_1000</th>\n",
       "      <th>LOC QUOTIENT</th>\n",
       "      <th>Score</th>\n",
       "    </tr>\n",
       "  </thead>\n",
       "  <tbody>\n",
       "    <tr>\n",
       "      <th>0</th>\n",
       "      <td>Abilene, TX</td>\n",
       "      <td>Management</td>\n",
       "      <td>2,030</td>\n",
       "      <td>31.741</td>\n",
       "      <td>0.63</td>\n",
       "      <td>1.3</td>\n",
       "    </tr>\n",
       "    <tr>\n",
       "      <th>1</th>\n",
       "      <td>Abilene, TX</td>\n",
       "      <td>Business and Financial Operations</td>\n",
       "      <td>2,230</td>\n",
       "      <td>34.804</td>\n",
       "      <td>0.67</td>\n",
       "      <td>1.7</td>\n",
       "    </tr>\n",
       "    <tr>\n",
       "      <th>2</th>\n",
       "      <td>Abilene, TX</td>\n",
       "      <td>Computer and Mathematical</td>\n",
       "      <td>920</td>\n",
       "      <td>14.402</td>\n",
       "      <td>0.49</td>\n",
       "      <td>0.0</td>\n",
       "    </tr>\n",
       "    <tr>\n",
       "      <th>3</th>\n",
       "      <td>Abilene, TX</td>\n",
       "      <td>Architecture and Engineering</td>\n",
       "      <td>710</td>\n",
       "      <td>11.068</td>\n",
       "      <td>0.62</td>\n",
       "      <td>1.2</td>\n",
       "    </tr>\n",
       "    <tr>\n",
       "      <th>4</th>\n",
       "      <td>Abilene, TX</td>\n",
       "      <td>Life, Physical, and Social Science</td>\n",
       "      <td>380</td>\n",
       "      <td>5.901</td>\n",
       "      <td>0.72</td>\n",
       "      <td>2.2</td>\n",
       "    </tr>\n",
       "  </tbody>\n",
       "</table>\n",
       "</div>"
      ],
      "text/plain": [
       "     AREA_NAME                           OCC_TITLE TOT_EMP  JOBS_1000  \\\n",
       "0  Abilene, TX                          Management   2,030     31.741   \n",
       "1  Abilene, TX   Business and Financial Operations   2,230     34.804   \n",
       "2  Abilene, TX           Computer and Mathematical     920     14.402   \n",
       "3  Abilene, TX        Architecture and Engineering     710     11.068   \n",
       "4  Abilene, TX  Life, Physical, and Social Science     380      5.901   \n",
       "\n",
       "   LOC QUOTIENT  Score  \n",
       "0          0.63    1.3  \n",
       "1          0.67    1.7  \n",
       "2          0.49    0.0  \n",
       "3          0.62    1.2  \n",
       "4          0.72    2.2  "
      ]
     },
     "execution_count": 7,
     "metadata": {},
     "output_type": "execute_result"
    }
   ],
   "source": [
    "laborforce = pd.read_csv('LaborForce.csv')\n",
    "laborforce.head()"
   ]
  },
  {
   "cell_type": "code",
   "execution_count": 15,
   "metadata": {},
   "outputs": [
    {
     "data": {
      "application/vnd.jupyter.widget-view+json": {
       "model_id": "eb79d94371ee4054820279ba8a81959e",
       "version_major": 2,
       "version_minor": 0
      },
      "text/plain": [
       "interactive(children=(Dropdown(description='Population', options=('>=100000', '>=250000', '>=500000', '>=10000…"
      ]
     },
     "metadata": {},
     "output_type": "display_data"
    }
   ],
   "source": [
    "# Define Population function to choose the population catagory as part of the Selection Widgets\n",
    "def f(Population):\n",
    "    if Population =='>=100000':\n",
    "        Population = 100000\n",
    "    elif Population == '>=250000':\n",
    "        Population = 250000\n",
    "    elif Population == '>=500000':\n",
    "        Population = 500000\n",
    "    else:\n",
    "        Population = 1000000\n",
    "    return Population\n",
    "\n",
    "# Create Lists using interactive\n",
    "Population = interactive(f,Population=population_catagory\n",
    "                         ,layout=form_item_layout)\n",
    "\n",
    "# You can also view this in a notebook without using display.\n",
    "display(Population)"
   ]
  },
  {
   "cell_type": "code",
   "execution_count": 18,
   "metadata": {},
   "outputs": [
    {
     "data": {
      "text/plain": [
       "500000"
      ]
     },
     "execution_count": 18,
     "metadata": {},
     "output_type": "execute_result"
    }
   ],
   "source": [
    "# This is to show the user selection value for the Minimum Population \n",
    "Minimum_population = Population.result\n",
    "Minimum_population"
   ]
  },
  {
   "cell_type": "code",
   "execution_count": 19,
   "metadata": {},
   "outputs": [
    {
     "data": {
      "application/vnd.jupyter.widget-view+json": {
       "model_id": "bbde5867f498482da176728ebfa9d10e",
       "version_major": 2,
       "version_minor": 0
      },
      "text/plain": [
       "interactive(children=(Dropdown(description='Primary', options=('Management', 'Business and Financial Operation…"
      ]
     },
     "metadata": {},
     "output_type": "display_data"
    }
   ],
   "source": [
    "# Define Labor force Catagory function to choose the Labor force Catagory as part of the Selection Widgets\n",
    "def f(Primary):\n",
    "    return Primary\n",
    "# Create Lists using interactive\n",
    "primary = interactive(f,Primary=labor_force_catagory,layout=form_item_layout)\n",
    "\n",
    "# You can also view this in a notebook without using display.\n",
    "display(primary)"
   ]
  },
  {
   "cell_type": "code",
   "execution_count": 21,
   "metadata": {},
   "outputs": [
    {
     "data": {
      "text/plain": [
       "'Transportation and Material Moving'"
      ]
     },
     "execution_count": 21,
     "metadata": {},
     "output_type": "execute_result"
    }
   ],
   "source": [
    "Primary = primary.result\n",
    "Primary"
   ]
  },
  {
   "cell_type": "code",
   "execution_count": 22,
   "metadata": {},
   "outputs": [],
   "source": [
    "Secondary_labor_force_catagory = [x for x in labor_force_catagory if x != Primary]\n"
   ]
  },
  {
   "cell_type": "code",
   "execution_count": 23,
   "metadata": {},
   "outputs": [
    {
     "data": {
      "application/vnd.jupyter.widget-view+json": {
       "model_id": "8803571cc5fe4f0386de1a77c72da4fa",
       "version_major": 2,
       "version_minor": 0
      },
      "text/plain": [
       "interactive(children=(Dropdown(description='Secondary', options=('Management', 'Business and Financial Operati…"
      ]
     },
     "metadata": {},
     "output_type": "display_data"
    }
   ],
   "source": [
    "# Define Labor force Catagory function to choose the Labor force Catagory as part of the Selection Widgets\n",
    "def f(Secondary):\n",
    "    return Secondary\n",
    "# Create Lists using interactive\n",
    "secondary = interactive(f,Secondary=Secondary_labor_force_catagory,layout=form_item_layout)\n",
    "\n",
    "# You can also view this in a notebook without using display.\n",
    "display(secondary)"
   ]
  },
  {
   "cell_type": "code",
   "execution_count": null,
   "metadata": {},
   "outputs": [],
   "source": [
    "Secondary = secondary.result\n",
    "Secondary"
   ]
  },
  {
   "cell_type": "code",
   "execution_count": 24,
   "metadata": {},
   "outputs": [
    {
     "data": {
      "application/vnd.jupyter.widget-view+json": {
       "model_id": "38b0d87e342f4d708a267f5460adbe42",
       "version_major": 2,
       "version_minor": 0
      },
      "text/plain": [
       "SelectMultiple(description='Optional', layout=Layout(align_items='stretch', border='solid 2px', display='flex'…"
      ]
     },
     "metadata": {},
     "output_type": "display_data"
    }
   ],
   "source": [
    "# This is to have an option for the user to choose the Optional Labor Force form the list of values other then Primary and Secondary\n",
    "optional_labor_force_catagory = [x for x in Secondary_labor_force_catagory if x != secondary.result]\n",
    "\n",
    "optional = widgets.SelectMultiple(\n",
    "    options=optional_labor_force_catagory,\n",
    "    #value=['Oranges'],\n",
    "    layout=form_item_layout,\n",
    "    rows=20,\n",
    "    description='Optional',\n",
    "    disabled=False\n",
    ")\n",
    "display(optional)"
   ]
  },
  {
   "cell_type": "code",
   "execution_count": 25,
   "metadata": {},
   "outputs": [
    {
     "data": {
      "text/plain": [
       "('Computer and Mathematical', 'Arts, Design, Entertainment, Sports, and Media')"
      ]
     },
     "execution_count": 25,
     "metadata": {},
     "output_type": "execute_result"
    }
   ],
   "source": [
    "optional.value"
   ]
  },
  {
   "cell_type": "code",
   "execution_count": 26,
   "metadata": {},
   "outputs": [
    {
     "data": {
      "application/vnd.jupyter.widget-view+json": {
       "model_id": "7e81e56b6a9843dab023264f24c6ff5a",
       "version_major": 2,
       "version_minor": 0
      },
      "text/plain": [
       "IntSlider(value=1, continuous_update=False, description='Population Weight', max=10, style=SliderStyle(descrip…"
      ]
     },
     "metadata": {},
     "output_type": "display_data"
    }
   ],
   "source": [
    "# Define Population function to choose the Weight for the Population\n",
    "\n",
    "style = {'description_width': 'initial'}\n",
    "Pop_weight = widgets.IntSlider(\n",
    "    value=1,\n",
    "    min=0,\n",
    "    max=10,\n",
    "    step=1,\n",
    "    description='Population Weight',\n",
    "    disabled=False,\n",
    "    continuous_update=False,\n",
    "    orientation='horizontal',\n",
    "    readout=True,\n",
    "    readout_format='d',\n",
    "    style=style\n",
    ")\n",
    "\n",
    "display(Pop_weight)"
   ]
  },
  {
   "cell_type": "code",
   "execution_count": 27,
   "metadata": {},
   "outputs": [
    {
     "data": {
      "text/plain": [
       "10"
      ]
     },
     "execution_count": 27,
     "metadata": {},
     "output_type": "execute_result"
    }
   ],
   "source": [
    "Pop_weight.value\n"
   ]
  },
  {
   "cell_type": "code",
   "execution_count": 28,
   "metadata": {},
   "outputs": [
    {
     "data": {
      "application/vnd.jupyter.widget-view+json": {
       "model_id": "3fda46d94d9344c48fd50974585b4fa8",
       "version_major": 2,
       "version_minor": 0
      },
      "text/plain": [
       "IntSlider(value=1, continuous_update=False, description='Labor Force Weight', max=10, style=SliderStyle(descri…"
      ]
     },
     "metadata": {},
     "output_type": "display_data"
    }
   ],
   "source": [
    "# Define Population function to choose the Weightage for the Labor Force\n",
    "\n",
    "\n",
    "style = {'description_width': 'initial'}\n",
    "Labor_weight = widgets.IntSlider(\n",
    "    value=1,\n",
    "    min=0,\n",
    "    max=10,\n",
    "    step=1,\n",
    "    description='Labor Force Weight',\n",
    "    disabled=False,\n",
    "    continuous_update=False,\n",
    "    orientation='horizontal',\n",
    "    readout=True,\n",
    "    readout_format='d',\n",
    "    style=style\n",
    ")\n",
    "\n",
    "display(Labor_weight)"
   ]
  },
  {
   "cell_type": "code",
   "execution_count": 30,
   "metadata": {},
   "outputs": [
    {
     "data": {
      "text/plain": [
       "4"
      ]
     },
     "execution_count": 30,
     "metadata": {},
     "output_type": "execute_result"
    }
   ],
   "source": [
    "Labor_weight.value"
   ]
  },
  {
   "cell_type": "code",
   "execution_count": 31,
   "metadata": {},
   "outputs": [
    {
     "data": {
      "application/vnd.jupyter.widget-view+json": {
       "model_id": "d0ec513d9ca543d089bab101344ca56d",
       "version_major": 2,
       "version_minor": 0
      },
      "text/plain": [
       "IntSlider(value=1, continuous_update=False, description='Proximity to Airport Weight', max=10, style=SliderSty…"
      ]
     },
     "metadata": {},
     "output_type": "display_data"
    }
   ],
   "source": [
    "# Define Population function to choose the Weightage for the Proximity to Airport\n",
    "\n",
    "style = {'description_width': 'initial'}\n",
    "if (Labor_weight.value == 0 and Pop_weight.value == 0):\n",
    "    Airport_weight = widgets.IntSlider(\n",
    "        value=1,\n",
    "        min=1,\n",
    "        max=10,\n",
    "        step=1,\n",
    "        description='Proximity to Airport Weight',\n",
    "        disabled=False,\n",
    "        continuous_update=False,\n",
    "        orientation='horizontal',\n",
    "        readout=True,\n",
    "        readout_format='d',\n",
    "        style=style\n",
    "    )\n",
    "else:\n",
    "    Airport_weight = widgets.IntSlider(\n",
    "        value=1,\n",
    "        min=0,\n",
    "        max=10,\n",
    "        step=1,\n",
    "        description='Proximity to Airport Weight',\n",
    "        disabled=False,\n",
    "        continuous_update=False,\n",
    "        orientation='horizontal',\n",
    "        readout=True,\n",
    "        readout_format='d',\n",
    "        style=style\n",
    "    )\n",
    "\n",
    "\n",
    "display(Airport_weight)"
   ]
  },
  {
   "cell_type": "code",
   "execution_count": 32,
   "metadata": {},
   "outputs": [
    {
     "data": {
      "text/plain": [
       "6"
      ]
     },
     "execution_count": 32,
     "metadata": {},
     "output_type": "execute_result"
    }
   ],
   "source": [
    "Airport_weight.value"
   ]
  },
  {
   "cell_type": "code",
   "execution_count": null,
   "metadata": {},
   "outputs": [],
   "source": []
  },
  {
   "cell_type": "code",
   "execution_count": null,
   "metadata": {},
   "outputs": [],
   "source": []
  },
  {
   "cell_type": "code",
   "execution_count": null,
   "metadata": {},
   "outputs": [],
   "source": []
  }
 ],
 "metadata": {
  "kernelspec": {
   "display_name": "Python 3",
   "language": "python",
   "name": "python3"
  },
  "language_info": {
   "codemirror_mode": {
    "name": "ipython",
    "version": 3
   },
   "file_extension": ".py",
   "mimetype": "text/x-python",
   "name": "python",
   "nbconvert_exporter": "python",
   "pygments_lexer": "ipython3",
   "version": "3.7.1"
  }
 },
 "nbformat": 4,
 "nbformat_minor": 2
}
